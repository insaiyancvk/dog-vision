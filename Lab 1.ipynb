{
 "cells": [
  {
   "cell_type": "code",
   "execution_count": 1,
   "id": "corporate-buddy",
   "metadata": {},
   "outputs": [
    {
     "name": "stdout",
     "output_type": "stream",
     "text": [
      "\n",
      "The initialized array: []\n",
      "\n",
      "The array after extending it to another array: [1, 5, 7, 3, 8, 3, 8, 10]\n",
      "\n",
      "The sorted array: [1, 3, 3, 5, 7, 8, 8, 10]\n",
      "\n",
      "The array after popping the element at 3rd index: [1, 3, 3, 7, 8, 8, 10]\n",
      "\n",
      "The array after inserting an element at 1st index: [1, 6, 3, 3, 7, 8, 8, 10]\n",
      "\n",
      "The reversed array: [10, 8, 8, 7, 3, 3, 6, 1]\n",
      "\n",
      "The cleared array: []\n",
      "\n"
     ]
    }
   ],
   "source": [
    "arr = []\n",
    "print(f\"\\nThe initialized array: {arr}\")\n",
    "\n",
    "arr.extend([1,5,7,3,8,3,8,10]) #1\n",
    "print(f\"\\nThe array after extending it to another array: {arr}\")\n",
    "\n",
    "arr.sort() #2\n",
    "print(f\"\\nThe sorted array: {arr}\")\n",
    "\n",
    "arr.pop(3) #3\n",
    "print(f\"\\nThe array after popping the element at 3rd index: {arr}\")\n",
    "\n",
    "arr.insert(1, 6) #4\n",
    "print(f\"\\nThe array after inserting an element at 1st index: {arr}\")\n",
    "\n",
    "arr.reverse() #5\n",
    "print(f\"\\nThe reversed array: {arr}\")\n",
    "\n",
    "arr.clear() #6\n",
    "print(f\"\\nThe cleared array: {arr}\\n\")"
   ]
  }
 ],
 "metadata": {
  "kernelspec": {
   "display_name": "Python 3",
   "language": "python",
   "name": "python3"
  },
  "language_info": {
   "codemirror_mode": {
    "name": "ipython",
    "version": 3
   },
   "file_extension": ".py",
   "mimetype": "text/x-python",
   "name": "python",
   "nbconvert_exporter": "python",
   "pygments_lexer": "ipython3",
   "version": "3.8.5"
  }
 },
 "nbformat": 4,
 "nbformat_minor": 5
}
